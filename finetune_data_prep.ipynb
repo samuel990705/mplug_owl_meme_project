{
 "cells": [
  {
   "cell_type": "code",
   "execution_count": 1,
   "metadata": {},
   "outputs": [],
   "source": [
    "import os\n",
    "import json\n",
    "import numpy as np"
   ]
  },
  {
   "cell_type": "code",
   "execution_count": null,
   "metadata": {},
   "outputs": [],
   "source": []
  },
  {
   "cell_type": "code",
   "execution_count": 2,
   "metadata": {},
   "outputs": [],
   "source": [
    "def get_data(txt_file):\n",
    "    with open(txt_file, \"r\") as f:\n",
    "        gt = json.load(f)\n",
    "    \n",
    "    data={example['id'] : example for example in gt}\n",
    "\n",
    "    return data\n"
   ]
  },
  {
   "cell_type": "code",
   "execution_count": 3,
   "metadata": {},
   "outputs": [],
   "source": [
    "train_set=get_data('data/training/training_set_task3.txt')\n",
    "val_set=get_data('data/dev/dev_set_task3_labeled.txt')\n",
    "test_set=get_data('data/testing/test_set_task3.txt')\n"
   ]
  },
  {
   "cell_type": "code",
   "execution_count": 9,
   "metadata": {},
   "outputs": [],
   "source": [
    "def generate_prompt(fewshot_ids,split):\n",
    "    prompt='''The following is a conversation between a curious human and AI assistant. The assistant identify persuasion techniques in image and text given by the human. \n",
    "    This is a list of persuasion techniques: ['Appeal to authority', 'Appeal to fear/prejudice', 'Black-and-white Fallacy/Dictatorship', 'Causal Oversimplification', 'Doubt', 'Exaggeration/Minimisation', 'Flag-waving', \n",
    "    'Glittering generalities (Virtue)', 'Loaded Language', \"Misrepresentation of Someone's Position (Straw Man)\", 'Name calling/Labeling', 'Obfuscation, Intentional vagueness, Confusion', 'Presenting Irrelevant Data (Red Herring)', \n",
    "    'Reductio ad hitlerum', 'Repetition', 'Slogans', 'Smears', 'Thought-terminating cliché', 'Whataboutism', 'Bandwagon', 'Transfer', 'Appeal to (Strong) Emotions']\\n'''\n",
    "\n",
    "    fewshot_image_path=[]\n",
    "\n",
    "    DATA_PATH='data/'+split+'/'\n",
    "\n",
    "    for id in fewshot_ids:\n",
    "        text=train_set[id]['text']\n",
    "        labels=str(train_set[id]['labels'])\n",
    "        fewshot_image_path.append(train_set[id]['image'])\n",
    "\n",
    "        prompt+=\\\n",
    "            f'''\n",
    "            Human: <image>\n",
    "            Human: \\\"{text}\\\" Please select the techniques used in the image and the text.\n",
    "            AI: {labels}'''\n",
    "    \n",
    "    return prompt,fewshot_image_path\n"
   ]
  },
  {
   "cell_type": "code",
   "execution_count": 10,
   "metadata": {},
   "outputs": [
    {
     "name": "stdout",
     "output_type": "stream",
     "text": [
      "The following is a conversation between a curious human and AI assistant. The assistant identify persuasion techniques in image and text given by the human. \n",
      "    This is a list of persuasion techniques: ['Appeal to authority', 'Appeal to fear/prejudice', 'Black-and-white Fallacy/Dictatorship', 'Causal Oversimplification', 'Doubt', 'Exaggeration/Minimisation', 'Flag-waving', \n",
      "    'Glittering generalities (Virtue)', 'Loaded Language', \"Misrepresentation of Someone's Position (Straw Man)\", 'Name calling/Labeling', 'Obfuscation, Intentional vagueness, Confusion', 'Presenting Irrelevant Data (Red Herring)', \n",
      "    'Reductio ad hitlerum', 'Repetition', 'Slogans', 'Smears', 'Thought-terminating cliché', 'Whataboutism', 'Bandwagon', 'Transfer', 'Appeal to (Strong) Emotions']\n",
      "\n",
      "            Human: <image>\n",
      "            Human: \"This is not an accident!\" Please select the techniques used in the image and the text.\n",
      "            AI: ['Reductio ad hitlerum', 'Smears', 'Transfer']\n",
      "            Human: <image>\n",
      "            Human: \"Don't trust BigPharma!\n",
      "Read the insert!\n",
      "\n",
      "The inserts are written by BigPharma\" Please select the techniques used in the image and the text.\n",
      "            AI: []\n",
      "            Human: <image>\n",
      "            Human: \"WHAT A CONTRAST\n",
      "\n",
      "FROM WORST EVER TO BEST EVER\" Please select the techniques used in the image and the text.\n",
      "            AI: ['Exaggeration/Minimisation', 'Glittering generalities (Virtue)', 'Name calling/Labeling', 'Smears']\n",
      "            Human: <image>\n",
      "            Human: \"KEEP IN MIND THAT DEMOCRATS VOTED TO FINE AMERICAN CITIZENS FOR NOT BUYING INSURANCE, AND THEN CONSPIRED TO GIVE IT TO ILLEGAL ALIENS FOR FREE.\n",
      "\" Please select the techniques used in the image and the text.\n",
      "            AI: ['Appeal to fear/prejudice', 'Flag-waving', 'Loaded Language', 'Name calling/Labeling', 'Smears', 'Whataboutism']\n",
      "            Human: <image>\n",
      "            Human: \"IF WE GIVE UP EVERYTHING THAT OFFENDS SOMEONE THIS WILL BE THE ONLY FLAG WE CAN FLY\n",
      "\" Please select the techniques used in the image and the text.\n",
      "            AI: ['Exaggeration/Minimisation']\n"
     ]
    }
   ],
   "source": [
    "few_show_examples=['189', '186_batch_2', '136', '85', '45_batch_2']\n",
    "\n",
    "print(generate_prompt(few_show_examples,'train')[0])"
   ]
  },
  {
   "cell_type": "code",
   "execution_count": 11,
   "metadata": {},
   "outputs": [],
   "source": [
    "def generate_data(data, few_show_examples,split):\n",
    "\n",
    "    prompt, fewshot_image_path=generate_prompt(few_show_examples, split)\n",
    "\n",
    "    data_examples=[]\n",
    "\n",
    "    DATA_PATH='data/'+split+'/'\n",
    "    \n",
    "    for id in data:\n",
    "        image_path=DATA_PATH+data[id]['image']\n",
    "        text=data[id]['text']\n",
    "        labels=data[id]['labels']\n",
    "\n",
    "        example_text=\\\n",
    "            f'''\n",
    "            Human: <image>\n",
    "            Human: \\\"{text}\\\" Please select the techniques used in the image and the text.\n",
    "            AI: {labels}'''\n",
    "        \n",
    "        example={}\n",
    "        example['task_type'] = 'llava_sft'\n",
    "        example['image'] = fewshot_image_path + [image_path]\n",
    "        example['text'] = prompt + example_text\n",
    "        \n",
    "        data_examples.append(example)\n",
    "\n",
    "    return data_examples\n"
   ]
  },
  {
   "cell_type": "code",
   "execution_count": 12,
   "metadata": {},
   "outputs": [],
   "source": [
    "# few_show_examples=['189', '186_batch_2', '136', '85', '45_batch_2']\n",
    "few_show_examples=[]\n",
    "\n",
    "train_json=generate_data(train_set,few_show_examples, 'train')\n",
    "train_file_path = \"trainset.jsonl\"\n",
    "val_json=generate_data(val_set,few_show_examples, 'dev')\n",
    "val_file_path = \"valset.jsonl\"\n",
    "\n",
    "with open(train_file_path, 'w') as json_file:\n",
    "    for entry in train_json:\n",
    "        json.dump(entry,json_file)\n",
    "        json_file.write('\\n')\n",
    "    # json.dump(train_json, json_file, indent=4) \n",
    "with open(val_file_path, 'w') as json_file:\n",
    "    for entry in val_json:\n",
    "        json.dump(entry,json_file)\n",
    "        json_file.write('\\n')\n",
    "    # json.dump(val_json, json_file, indent=4) "
   ]
  },
  {
   "cell_type": "code",
   "execution_count": 13,
   "metadata": {},
   "outputs": [
    {
     "name": "stdout",
     "output_type": "stream",
     "text": [
      "<class 'str'>\n",
      "llava_sft\n",
      "<class 'list'>\n",
      "['data/train/128_image.png']\n",
      "<class 'str'>\n",
      "The following is a conversation between a curious human and AI assistant. The assistant identify persuasion techniques in image and text given by the human. \n",
      "    This is a list of persuasion techniques: ['Appeal to authority', 'Appeal to fear/prejudice', 'Black-and-white Fallacy/Dictatorship', 'Causal Oversimplification', 'Doubt', 'Exaggeration/Minimisation', 'Flag-waving', \n",
      "    'Glittering generalities (Virtue)', 'Loaded Language', \"Misrepresentation of Someone's Position (Straw Man)\", 'Name calling/Labeling', 'Obfuscation, Intentional vagueness, Confusion', 'Presenting Irrelevant Data (Red Herring)', \n",
      "    'Reductio ad hitlerum', 'Repetition', 'Slogans', 'Smears', 'Thought-terminating cliché', 'Whataboutism', 'Bandwagon', 'Transfer', 'Appeal to (Strong) Emotions']\n",
      "\n",
      "            Human: <image>\n",
      "            Human: \"THERE ARE ONLY TWO GENDERS\n",
      "\n",
      "FEMALE \n",
      "\n",
      "MALE\n",
      "\" Please select the techniques used in the image and the text.\n",
      "            AI: ['Black-and-white Fallacy/Dictatorship', 'Name calling/Labeling', 'Smears']\n"
     ]
    }
   ],
   "source": [
    "for keys in train_json[0]:\n",
    "    print(type(train_json[0][keys]))\n",
    "    # print(repr(train_json[0][keys]))\n",
    "    print(train_json[0][keys])"
   ]
  },
  {
   "cell_type": "code",
   "execution_count": null,
   "metadata": {},
   "outputs": [],
   "source": []
  },
  {
   "cell_type": "code",
   "execution_count": null,
   "metadata": {},
   "outputs": [],
   "source": []
  }
 ],
 "metadata": {
  "kernelspec": {
   "display_name": "anlp_p1",
   "language": "python",
   "name": "python3"
  },
  "language_info": {
   "codemirror_mode": {
    "name": "ipython",
    "version": 3
   },
   "file_extension": ".py",
   "mimetype": "text/x-python",
   "name": "python",
   "nbconvert_exporter": "python",
   "pygments_lexer": "ipython3",
   "version": "3.10.13"
  }
 },
 "nbformat": 4,
 "nbformat_minor": 2
}
